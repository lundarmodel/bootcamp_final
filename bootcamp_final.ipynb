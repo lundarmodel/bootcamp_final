{
 "cells": [
  {
   "cell_type": "code",
   "execution_count": 333,
   "metadata": {},
   "outputs": [],
   "source": [
    "%matplotlib inline\n",
    "import matplotlib as mpl\n",
    "import matplotlib.pyplot as plt\n",
    "import numpy as np\n",
    "import pandas as pd\n",
    "import sklearn\n",
    "\n",
    "import io\n",
    "import matplotlib.pyplot as plt\n",
    "import scipy.stats\n",
    "import scipy.special\n",
    "import seaborn as sns\n",
    "from tabulate import tabulate\n",
    "sns.set_style('white')\n",
    "sns.set_context('notebook')"
   ]
  },
  {
   "cell_type": "code",
   "execution_count": 358,
   "metadata": {},
   "outputs": [],
   "source": [
    "#Read in raw data\n",
    "df_base = pd.read_csv(\"data/USWNT_valid_columns_no_text_no_shots.csv\")\n",
    "#df_base = pd.read_csv(\"data/USWNT_valid_columns_no_text_just_data.csv\")\n",
    "# tabulate data\n",
    "#table = tabulate(df_base.keys(),tablefmt=\"fancy_grid\")\n",
    "\n",
    "#print  (list(df_base.keys())) #Show the available dictionary keys\n",
    "\n",
    "#print(\"\\n\".join(list(df_base.keys()))) #show available dictionary keys one per line\n",
    "\n",
    "#print(table)"
   ]
  },
  {
   "cell_type": "code",
   "execution_count": 393,
   "metadata": {},
   "outputs": [
    {
     "name": "stdout",
     "output_type": "stream",
     "text": [
      "['Shots', 'Shot.Accuracy', 'Shot.GK.Stop', 'Shot.Def.Stop', 'Shot.Miss', 'Shot.Pressed', 'Key.Passes', 'Big.Chances', 'BC.Scored', 'BC.Conversion.Pct', 'BC.SOG', 'BC.Shot.Miss', 'BC.Dispossess', 'BC.Created', 'BC.Lost', 'Pass.Comp', 'Pass.Att', 'Pass.Comp.Pct', 'opPass.Comp', 'opPass.Att', 'opPass.Comp.Pct', 'fwPass.Comp', 'fwPass.Att', 'fwPass.Comp.Pct', 'sPass.Comp', 'sPass.Att', 'sPass.Comp.Pct', 'bPass.Comp', 'bPass.Att', 'bPass.Comp.Pct', 'fwopPass.Comp', 'fwopPass.Att', 'fwopPass.Comp.Pct', 'sopPass.Comp', 'sopPass.Att', 'sopPass.Comp.Pct', 'bopPass.Comp', 'bopPass.Att', 'bopPass.Comp.Pct', 'PPass.Comp', 'PPass.Att', 'PPass.Comp.Pct', 'fwPPass.Comp', 'fwPPass.Att', 'fwPPass.Comp.Pct', 'sPPass.Comp', 'sPPass.Att', 'sPPass.Comp.Pct', 'bPPass.Comp', 'bPPass.Att', 'bPPass.Comp.Pct', 'Cross.Comp', 'Cross.Att', 'Cross.Comp.Pct', 'Launch.Comp', 'Launch.Att', 'Launch.Comp.Pct', 'Through.Comp', 'Through.Att', 'Through.Comp.Pct', 'Throw.In.Comp', 'Throw.In.Att', 'Throw.In.Comp.Pct', 'Corner.Kicks.Completed', 'Corner.Kicks.Taken', 'CK.Comp.Pct', 'CK.Key.Pass', 'FK.Pass.Comp', 'FK.Pass.Att', 'FK.Pass.Comp.Pct', 'FK.Assist', 'FK.Key.Pass', 'FK.Shot', 'FK.Scored', 'Free.Kicks.Taken', 'Take.Ons', 'TO.Won', 'TO.Lost', 'TO.Win.Pct', 'Dispossessed', 'Lost.Touches', 'All.Possessions.Disrupted', 'Aerial.Duels', 'AD.Won', 'AD.Lost', 'AD.Win.Pct', 'Tackles', 'Dispossesses', 'All.Opp.Poss.Disrupted', 'Dribbled', 'Press.Opp', 'Challenge.Opp', 'Recoveries', 'Def.Recoveries', 'Poss.Recoveries', 'Interceptions', 'Blocks', 'Clearances', 'Ball.Shields', 'Fouls.Won', 'Fouls.Conceded', 'Yellow.Cards', 'Red.Cards', 'Pe0lties.Won', 'Pe0lties.Conceded', 'Saves', 'Goals.Allowed', 'GK.SOG.Faced', 'GperSOG', 'BC.SOG.Faced', 'BC.Saves', 'BC.Goals.Allowed', 'GperBCSOG', 'High.Balls.Faced', 'HB.Won', 'HB.Lost', 'HB.Caught', 'HB.Punched', 'HB.Parried', 'HB.Collected', 'HB.Fouls.Won', 'Crosses.Faced', 'Crosses.Won', 'Crosses.Lost', 'Corner.Kicks.Faced', 'CKs.Won', 'CKs.Lost', 'Free.Kicks.Faced', 'FKs.Won', 'FKs.Lost', 'Smothers.Won', 'Smothers.Lost', 'GK.Overall.Pass.Comp', 'GK.Overall.Pass.Att', 'GK.Overall.Pass.Comp.Pct', 'GK.Throw.Comp', 'GK.Throw.Att', 'GK.Throw.Comp.Pct', 'GK.Drop.Kick.Comp', 'GK.Drop.Kick.Att', 'GK.Drop.Kick.Comp.Pct', 'GKFK.Comp', 'GKFK.Att', 'GKFK.Comp.Pct', 'Outcome']\n"
     ]
    }
   ],
   "source": [
    "#Isolate the variables we want to look at and do needed transformations\n",
    "\n",
    "df=df_base\n",
    "#df = df_base[[\"Shots\", \"Shot.Accuracy\", \"Shot.GK.Stop\", \"Shot.Def.Stop\", \"Shot.Pressed\", \"Pct.Shots.Pressed\", \"Assists\", \"Key.Passes\", \"Key.Assists\", \"Big.Chances\", \"BC.Conversion.Pct\", \"BC.SOG\", \"Pass.Comp\", \"Pass.Att\", \"Pass.Comp.Pct\", \"Cross.Comp.Pct\", \"Through.Comp.Pct\", \"Throw.In.Comp.Pct\", \"CK.Comp.Pct\", \"FK.Pass.Att\", \"FK.Shot\", \"Take.Ons\", \"TO.Win.Pct\", \"Dispossessed\", \"Lost.Touches\", \"Aerial.Duels\", \"AD.Win.Pct\", \"Tackles\", \"Recoveries\", \"Interceptions\", \"Blocks\", \"Ball.Shields\", \"Yellow.Cards\", \"Red.Cards\", \"Saves\", \"Goals.Allowed\", \"BC.SOG.Faced\", \"BC.Saves\", \"High.Balls.Faced\", \"HB.Won\", \"HB.Lost\", \"Crosses.Faced\", \"Corner.Kicks.Faced\", \"Free.Kicks.Faced\", \"Smothers.Won\", \"Smothers.Lost\", \"GK.Overall.Pass.Comp.Pct\", \"GK.Throw.Comp.Pct\", \"GK.Drop.Kick.Comp.Pct\", \"GKFK.Comp.Pct\", \"Outcome\"]]\n",
    "#df = df_base[[\"Outcome\", \"Pass.Comp\", \"Pass.Att\", \"Goals.Allowed\", \"Shots\", \"Assists\", \"Pass.Comp.Pct\", \"Big.Chances\", \"Key.Passes\", \"Take.Ons\", \"BC.SOG.Faced\", \"Shot.Pressed\", \"AD.Win.Pct\", \"GK.Overall.Pass.Comp.Pct\"]]\n",
    "#df = df_base[[\"Shots\",\"Big.Chances\",\"Pass.Comp\",\"Corner.Kicks.Taken\",\"GK.SOG.Faced\",\"CK.Comp.Pct\",\"Outcome\"]]\n",
    "\n",
    "#df = df_base[['Shots' , 'Pass.Comp' , 'Corner.Kicks.Taken' , 'GK.SOG.Faced' , 'CK.Comp.Pct' , 'Big.Chances' , 'Key.Passes' , 'Take.Ons' , 'AD.Win.Pct' , 'GK.Overall.Pass.Comp.Pct','Outcome']]\n",
    "\n",
    "\n",
    "#df[[c for c in df if c not in ['b', 'x']] + ['b', 'x']]\n",
    "\n",
    "#Move outcome colunm to the end of the dataset for easier processing later.\n",
    "df = df[[c for c in df if c not in ['Outcome']] + ['Outcome']]\n",
    "\n",
    "#pd.to_numeric(df['CK.Comp.Pct'])\n",
    "\n",
    "print  (list(df.keys()))"
   ]
  },
  {
   "cell_type": "code",
   "execution_count": 394,
   "metadata": {},
   "outputs": [
    {
     "name": "stdout",
     "output_type": "stream",
     "text": [
      "Number of Records:  70\n"
     ]
    }
   ],
   "source": [
    "#Produce a correlecation matrix for exploration\n",
    "corr = df.corr()\n",
    "corr.style.background_gradient().set_precision(2)\n",
    "\n",
    "print(\"Number of Records: \", df[\"Outcome\"].count())"
   ]
  },
  {
   "cell_type": "code",
   "execution_count": 395,
   "metadata": {},
   "outputs": [
    {
     "name": "stdout",
     "output_type": "stream",
     "text": [
      "Number of Records:  70\n"
     ]
    }
   ],
   "source": [
    "#Reduce the factors to those with a high corrleation\n",
    "#df = df_base[[\"Pass.Comp\", \"Pass.Att\", \"Goals.Allowed\", \"Shots\", \"Assists\", \"Pass.Comp.Pct\", \"Big.Chances\", \"Key.Passes\", \"Take.Ons\", \"BC.SOG.Faced\", \"Shot.Pressed\", \"AD.Win.Pct\", \"GK.Overall.Pass.Comp.Pct\",\"Outcome\"]]\n",
    "from sklearn import preprocessing\n",
    "\n",
    "#df = df_base[[\"Shots\", \"GK.SOG.Faced\",\"Assists\", \"Pass.Comp.Pct\", \"Big.Chances\", \"Key.Passes\", \"Take.Ons\", \"AD.Win.Pct\", \"GK.Overall.Pass.Comp.Pct\", \"Outcome\"]]\n",
    "#print(df)\n",
    "df = df.dropna() #Get rid of partial records\n",
    "print(\"Number of Records: \", df[\"Outcome\"].count())"
   ]
  },
  {
   "cell_type": "code",
   "execution_count": 463,
   "metadata": {},
   "outputs": [
    {
     "name": "stdout",
     "output_type": "stream",
     "text": [
      "Number of Records:  70\n"
     ]
    }
   ],
   "source": [
    "#Normalize the data\n",
    "from sklearn.preprocessing import StandardScaler\n",
    "def NormalizeMyData(df):\n",
    "\n",
    "    #Divide into dependent and independent variables\n",
    "    y=df[[\"Outcome\"]].values.ravel() #This converts us from a dataframe column to a 1d vector because that's what the model fit seems to want.       \n",
    "    X = df[[c for c in df if c not in ['Outcome']]]\n",
    "    #Standardize the features and then re-add the stripped off column names\n",
    "    saved_cols = X.columns #save our columns names for after\n",
    "    \n",
    "    #Fit the scaler to the data. We'll use this later to scale data we want to predict\n",
    "    scaler=StandardScaler().fit(X)\n",
    "\n",
    "    #Scale the data and re-add the column names.\n",
    "    X=scaler.transform(X)\n",
    "    X=pd.DataFrame(X,columns = saved_cols)\n",
    "    \n",
    "    return X, y, scaler, saved_cols\n",
    "\n",
    "#This line runs the function and actually gets the data. We did a function because we're going to need it for prediction later.\n",
    "X, y, scaler, X_columns = NormalizeMyData(df)\n",
    "#print(scaler.scale_)\n",
    "print(\"Number of Records: \", X[\"Shots\"].count())\n"
   ]
  },
  {
   "cell_type": "code",
   "execution_count": null,
   "metadata": {},
   "outputs": [],
   "source": []
  },
  {
   "cell_type": "code",
   "execution_count": 462,
   "metadata": {},
   "outputs": [
    {
     "name": "stdout",
     "output_type": "stream",
     "text": [
      "['PC_1', 'PC_2', 'PC_3', 'PC_4', 'PC_5', 'PC_6', 'PC_7', 'PC_8', 'PC_9', 'PC_10', 'PC_11', 'PC_12', 'PC_13', 'PC_14', 'PC_15', 'PC_16', 'PC_17', 'PC_18', 'PC_19', 'PC_20', 'PC_21', 'PC_22', 'PC_23', 'PC_24', 'PC_25', 'PC_26', 'PC_27', 'PC_28', 'PC_29', 'PC_30', 'PC_31', 'PC_32', 'PC_33', 'PC_34', 'PC_35', 'PC_36', 'PC_37', 'PC_38', 'PC_39', 'PC_40', 'PC_41', 'PC_42', 'PC_43', 'PC_44', 'PC_45', 'PC_46', 'PC_47', 'PC_48', 'PC_49', 'PC_50', 'PC_51', 'PC_52', 'PC_53', 'PC_54', 'PC_55', 'PC_56', 'PC_57', 'PC_58', 'PC_59', 'PC_60', 'PC_61', 'PC_62', 'PC_63', 'PC_64', 'PC_65', 'PC_66', 'PC_67', 'PC_68', 'PC_69', 'PC_70']\n",
      "0.7777777777777778\n"
     ]
    },
    {
     "data": {
      "image/png": "[encoded data removed]",
      "text/plain": [
       "<Figure size 432x288 with 1 Axes>"
      ]
     },
     "metadata": {},
     "output_type": "display_data"
    }
   ],
   "source": [
    "#Do a PCA version to see how that compares to our factor selection\n",
    "from sklearn.decomposition import PCA\n",
    "#pca = PCA(n_components=df.columns)\n",
    "pca = PCA()\n",
    "\n",
    "saved_cols = X.columns #save our columns names for after\n",
    "pc = pca.fit_transform(X)\n",
    "#print(X_columns)\n",
    "#print(X.values)\n",
    "pc_labels=list(range(1,71))\n",
    "pc_labels=[\"PC_\" + str(s) for s in pc_labels]\n",
    "print(pc_labels)\n",
    "pc_df = pd.DataFrame(data = pc,columns = pc_labels )#, columns=X.columns)\n",
    "pc_df_use=pc_df[[\"PC_1\",\"PC_2\",\"PC_3\"]]\n",
    "#print(pc_df)\n",
    "#principleDf = pd.DataFrame(data = principleComponents\n",
    "#                          , columns=['principal component 1','principle component 2'])\n",
    "\n",
    "#print(principleDf)\n",
    "\n",
    "#pca.explained_variance_ratio_\n",
    "\n",
    "\n",
    "#print(\"Number of Factors:\", X_columns.size)\n",
    "#print(\"PCA number of factors:\", pca.explained_variance_ratio_.size)\n",
    "\n",
    "\n",
    "scree_df = pd.DataFrame({'var':pca.explained_variance_ratio_,\n",
    "            'PC':pc_labels})\n",
    "\n",
    "sns.barplot(x='PC',y=\"var\", \n",
    "            data=scree_df, color=\"c\");\n",
    "#print(pc.head())\n",
    "pca_X_train, pca_X_test, pca_y_train, pca_y_test = train_test_split(pc_df_use, y, random_state=42)\n",
    "\n",
    "clf = sklearn.linear_model.LogisticRegression(random_state=42)\n",
    "#clf.fit(df['Grain size (mm)'].values.reshape(-1, 1), df['Spiders'])\n",
    "\n",
    "# Train the model using the training sets\n",
    "clf.fit(pca_X_train, pca_y_train)\n",
    "\n",
    "#Show the results of the fit\n",
    "#print(clf.intercept_, clf.coef_)\n",
    "\n",
    "#Show how well our model works on test data.\n",
    "print(clf.score(pca_X_test,pca_y_test))\n"
   ]
  },
  {
   "cell_type": "code",
   "execution_count": null,
   "metadata": {},
   "outputs": [],
   "source": []
  },
  {
   "cell_type": "code",
   "execution_count": 364,
   "metadata": {},
   "outputs": [],
   "source": [
    "\n",
    "# #not currently using this but maybe should? I think it's a way for the PCA to directly feed \n",
    "# finalDf = pd.concat([principleDf,\n",
    "#                     df[['Outcome']]],axis =1)\n",
    "\n",
    "# #finalDf"
   ]
  },
  {
   "cell_type": "code",
   "execution_count": 365,
   "metadata": {},
   "outputs": [],
   "source": [
    "#From Pairplots: You can observe same set of relations from pairplots or scatter matrix. \n",
    "#But from these we can say that whether the data is normally distributed or not. \n",
    "#We waited until after PCA and correlation analysis to limit the size of the chart.\n",
    "\n",
    "#I need to read up on how this works more if I'm going to include it.\n",
    "# pd.plotting.scatter_matrix(df, alpha =1, figsize = (14,8), diagonal = 'kde');"
   ]
  },
  {
   "cell_type": "code",
   "execution_count": 464,
   "metadata": {},
   "outputs": [],
   "source": [
    "#Split our data into a training set and a testing set\n",
    "\n",
    "from sklearn.model_selection import train_test_split\n",
    "\n",
    "#y=df[[\"Outcome\"]].values.ravel() #This converts us from a dataframe column to a 1d vector because that's what the model fit seems to want.\n",
    "#X=df[df.columns[:-1]] #this grabs all the columns except the last one as that is our Y value. It's important that it be last for this to work.\n",
    "\n",
    "X_train, X_test, y_train, y_test = train_test_split(X, y, random_state=42)\n",
    "\n",
    "#print(X_train)"
   ]
  },
  {
   "cell_type": "code",
   "execution_count": 465,
   "metadata": {},
   "outputs": [
    {
     "name": "stdout",
     "output_type": "stream",
     "text": [
      "0.7222222222222222\n"
     ]
    }
   ],
   "source": [
    "#Now preform a logistic regression as it's good at working with binary predictions\n",
    "\n",
    "# C=1e12 is effectively no regularization - see https://github.com/scikit-learn/scikit-learn/issues/6738\n",
    "#clf = sklearn.linear_model.LogisticRegression(C=1e12, random_state=42)\n",
    "clf = sklearn.linear_model.LogisticRegression(random_state=42)\n",
    "#clf.fit(df['Grain size (mm)'].values.reshape(-1, 1), df['Spiders'])\n",
    "\n",
    "# Train the model using the training sets\n",
    "clf.fit(X_train, y_train)\n",
    "\n",
    "#Show the results of the fit\n",
    "#print(clf.intercept_, clf.coef_)\n",
    "\n",
    "#Show how well our model works on test data.\n",
    "print(clf.score(X_test,y_test))\n",
    "\n",
    "#This is the train data, you don't really care about this score but if this score is a lot different than your test score then it may be that you don't have enough data to get a stable model.\n",
    "#print(clf.score(X_train, y_train))\n",
    "\n",
    "#print(y_test)"
   ]
  },
  {
   "cell_type": "code",
   "execution_count": 368,
   "metadata": {},
   "outputs": [],
   "source": [
    "# I need to understand this better. I think it has something to do with determining which factors are good contributors...which we have kind of already done but it's a  good thing to check now that we've actually run the model that things are working as we expect.\n",
    "\n",
    "#This is a null version of the fit. I don't know the difference betweent this and normal\n",
    "        #To test if Grain size is a significant factor, we use the likelihood ratio test.\n",
    "        #We calculate the likelihood of the model with the grain size (the alternative model):\n",
    "# clf0 = log_reg_null_model(df['Outcome'])\n",
    "\n",
    "# print(clf0)\n",
    "# print(clf0.intercept_, clf0.coef_)"
   ]
  },
  {
   "cell_type": "code",
   "execution_count": null,
   "metadata": {},
   "outputs": [],
   "source": []
  },
  {
   "cell_type": "code",
   "execution_count": 369,
   "metadata": {},
   "outputs": [],
   "source": [
    "#Let's try a manually run prediction. Make sure you have all the columns defined.\n",
    "\n",
    "# d= { \n",
    "#     'Shots': [17]\n",
    "#     , 'Pass.Comp': [.8018]\n",
    "#     , 'Corner.Kicks.Taken': [14]\n",
    "#     , 'GK.SOG.Faced': [1]\n",
    "#     , 'CK.Comp.Pct': [.88]\n",
    "# #     , 'Pass.Att' : [10]\n",
    "# #     , 'Assists': [3]\n",
    "# #     , 'Pass.Comp.Pct': [.90]\n",
    "#     , 'Big.Chances': [7]\n",
    "#      , 'Key.Passes':[7]\n",
    "#      , 'Take.Ons':[19]\n",
    "#      , 'AD.Win.Pct':[.625]\n",
    "#      , 'GK.Overall.Pass.Comp.Pct':[.9412]\n",
    "# }\n",
    "\n",
    "# predict_data = pd.DataFrame(data=d)\n",
    "# #print(predict_data)\n",
    "\n",
    "# saved_cols = predict_data.columns #save our columns names for after\n",
    "# X=scaler.transform(predict_data)\n",
    "# predict_x=pd.DataFrame(X,columns = saved_cols)\n",
    "\n",
    "# prediction = clf.predict(predict_x)\n",
    "\n",
    "# print(\"Predicted outcome:\", prediction)"
   ]
  },
  {
   "cell_type": "code",
   "execution_count": null,
   "metadata": {},
   "outputs": [],
   "source": []
  },
  {
   "cell_type": "code",
   "execution_count": null,
   "metadata": {},
   "outputs": [],
   "source": []
  },
  {
   "cell_type": "code",
   "execution_count": null,
   "metadata": {},
   "outputs": [],
   "source": []
  }
 ],
 "metadata": {
  "kernelspec": {
   "display_name": "Python 3",
   "language": "python",
   "name": "python3"
  },
  "language_info": {
   "codemirror_mode": {
    "name": "ipython",
    "version": 3
   },
   "file_extension": ".py",
   "mimetype": "text/x-python",
   "name": "python",
   "nbconvert_exporter": "python",
   "pygments_lexer": "ipython3",
   "version": "3.5.5"
  }
 },
 "nbformat": 4,
 "nbformat_minor": 2
}
